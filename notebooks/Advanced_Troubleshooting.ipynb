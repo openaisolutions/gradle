{
 "cells": [
  {
   "cell_type": "markdown",
   "id": "b792370b",
   "metadata": {},
   "source": [
    "## PKIX Errors"
   ]
  },
  {
   "cell_type": "code",
   "execution_count": null,
   "id": "0d544ee2",
   "metadata": {},
   "outputs": [],
   "source": [
    "# PKIX Errors with GitLab over HTTPS\n",
    "openssl s_client -showcerts -connect gitlab.mycompany.com:443 </dev/null   | sed -ne '/-BEGIN CERTIFICATE-/,/-END CERTIFICATE-/p' > gitlab.crt\n",
    "\n",
    "keytool -import   -alias gitlab.mycompany.com   -file gitlab.crt   -keystore $JAVA_HOME/jre/lib/security/cacerts   -storepass changeit   -noprompt\n",
    "\n",
    "# eclipse.ini additions\n",
    "-vmargs\n",
    "-Djavax.net.ssl.trustStore=${env_var:JAVA_HOME}/jre/lib/security/cacerts\n",
    "-Djavax.net.ssl.trustStorePassword=changeit\n"
   ]
  },
  {
   "cell_type": "markdown",
   "id": "56395725",
   "metadata": {},
   "source": [
    "## Gradle Configs"
   ]
  },
  {
   "cell_type": "code",
   "execution_count": null,
   "id": "55ea1d73",
   "metadata": {},
   "outputs": [],
   "source": [
    "// common/build.gradle\n",
    "plugins { id 'java-library' }\n",
    "dependencies {\n",
    "  api     'org.example:shared-api:2.0'\n",
    "  implementation 'org.example:internal-util:3.1'\n",
    "  compileOnly    'org.thirdparty:optional:4.5'\n",
    "}\n",
    "\n",
    "// consumer/build.gradle\n",
    "dependencies {\n",
    "  implementation project(path: ':common', configuration: 'api')\n",
    "  implementation project(':common')\n",
    "}\n"
   ]
  },
  {
   "cell_type": "markdown",
   "id": "8712b17b",
   "metadata": {},
   "source": [
    "## Embedding POMs"
   ]
  },
  {
   "cell_type": "code",
   "execution_count": null,
   "id": "7011988a",
   "metadata": {},
   "outputs": [],
   "source": [
    "plugins { id 'maven-publish' }\n",
    "publishing {\n",
    "  publications {\n",
    "    mavenJava(MavenPublication) {\n",
    "      from components.java\n",
    "      pom {\n",
    "        withXml {\n",
    "          def root = asNode()\n",
    "          dependencies.each { dep ->\n",
    "            root.appendNode('dependency').with {\n",
    "              appendNode('groupId', dep.group)\n",
    "              appendNode('artifactId', dep.name)\n",
    "              appendNode('version', dep.version)\n",
    "              appendNode('scope', dep.configuration)\n",
    "            }\n",
    "          }\n",
    "        }\n",
    "      }\n",
    "    }\n",
    "  }\n",
    "}\n",
    "tasks.register('embedPom', Copy) {\n",
    "  from(publishing.publications.mavenJava.artifactId.map { \"${it}.pom\" })\n",
    "  into(\"${buildDir}/libs/META-INF/maven/${group}/${archivesBaseName}\")\n",
    "}\n",
    "tasks.named('jar') {\n",
    "  dependsOn 'embedPom'\n",
    "  from(\"${buildDir}/libs/META-INF\") { into 'META-INF' }\n",
    "}\n"
   ]
  },
  {
   "cell_type": "markdown",
   "id": "20936540",
   "metadata": {},
   "source": [
    "## Buildship Sources"
   ]
  },
  {
   "cell_type": "code",
   "execution_count": null,
   "id": "8669b8f0",
   "metadata": {},
   "outputs": [],
   "source": [
    "eclipse {\n",
    "  classpath {\n",
    "    file {\n",
    "      whenMerged { cp ->\n",
    "        cp.entries.removeAll { entry ->\n",
    "          entry.kind.name() == 'src' && entry.path.endsWith('/src/java')\n",
    "        }\n",
    "      }\n",
    "    }\n",
    "  }\n",
    "}\n"
   ]
  },
  {
   "cell_type": "markdown",
   "id": "f3148bf1",
   "metadata": {},
   "source": [
    "## Three-Level Subprojects"
   ]
  },
  {
   "cell_type": "code",
   "execution_count": null,
   "id": "845d5207",
   "metadata": {},
   "outputs": [],
   "source": [
    "// settings.gradle\n",
    "include 'api', 'api:core', 'api:core:impl'\n",
    "\n",
    "// root build.gradle or buildSrc\n",
    "subprojects {\n",
    "  apply plugin: 'java-library'\n",
    "  group = 'com.example'\n",
    "  version = '1.0.0'\n",
    "  repositories { mavenCentral() }\n",
    "}\n",
    "\n",
    "// api/core/build.gradle\n",
    "plugins { id 'java-library' }\n"
   ]
  }
 ],
 "metadata": {},
 "nbformat": 4,
 "nbformat_minor": 5
}
